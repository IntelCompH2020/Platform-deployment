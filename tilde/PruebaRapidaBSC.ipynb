{
 "cells": [
  {
   "cell_type": "code",
   "execution_count": 20,
   "id": "a06e2bb5",
   "metadata": {},
   "outputs": [
    {
     "name": "stderr",
     "output_type": "stream",
     "text": [
      "[Stage 8:>                                                          (0 + 1) / 1]\r"
     ]
    },
    {
     "name": "stdout",
     "output_type": "stream",
     "text": [
      "101\n"
     ]
    },
    {
     "name": "stderr",
     "output_type": "stream",
     "text": [
      "                                                                                \r"
     ]
    }
   ],
   "source": [
    "from pyspark.sql.functions import udf\n",
    "from pyspark.sql.types import BooleanType\n",
    "from pyspark.sql.types import StringType\n",
    "from pyspark.sql.functions import lit\n",
    "import json\n",
    "\n",
    "sc.version\n",
    "\n",
    "\n",
    "dataDF = spark.read.json ('file:///export/usuarios_ml4ds/sblanco/translateBSC/prueba_json_en/')\n",
    "number = dataDF.count()\n",
    "print (number)"
   ]
  },
  {
   "cell_type": "code",
   "execution_count": 22,
   "id": "9a8cb95b",
   "metadata": {},
   "outputs": [],
   "source": [
    "from pyspark.sql.functions import udf\n",
    "\n",
    "import datetime\n",
    "\n",
    "import requests\n",
    "import json\n",
    "\n",
    "transString = 'http://intelcomp.bsc.es/translate'\n",
    "headers = {'content-type': 'application/json', 'Accept-Charset': 'UTF-8'}\n",
    "\n",
    "def translateBSC (strdata):\n",
    "    dataTrans = {'text':strdata}\n",
    "    result = requests.post (transString, headers=headers, data=json.dumps(dataTrans))\n",
    "    return result.text\n",
    "\n",
    "\n",
    "translate_udf = udf (lambda x: translateBSC(x), StringType())\n"
   ]
  },
  {
   "cell_type": "code",
   "execution_count": 25,
   "id": "90c91336",
   "metadata": {},
   "outputs": [
    {
     "name": "stderr",
     "output_type": "stream",
     "text": [
      "[Stage 10:>                                                         (0 + 1) / 1]\r"
     ]
    },
    {
     "name": "stdout",
     "output_type": "stream",
     "text": [
      "101\n",
      "Duration: 0:20:04.344069\n"
     ]
    },
    {
     "name": "stderr",
     "output_type": "stream",
     "text": [
      "                                                                                \r"
     ]
    }
   ],
   "source": [
    "from datetime import datetime\n",
    "\n",
    "\n",
    "start_time = datetime.now()\n",
    "\n",
    "dataDF = dataDF.withColumn ('paperAbstractTranslate', translate_udf (dataDF.paperAbstract))\n",
    "\n",
    "savePath = '/export/ml4ds/temporal/prueba_' + str(number)\n",
    "\n",
    "dataDF.write.mode('overwrite').parquet (savePath)\n",
    "\n",
    "end_time = datetime.now()\n",
    "print (number)\n",
    "print('Duration: {}'.format(end_time - start_time))"
   ]
  }
 ],
 "metadata": {
  "kernelspec": {
   "display_name": "Python 3 (ipykernel)",
   "language": "python",
   "name": "python3"
  },
  "language_info": {
   "codemirror_mode": {
    "name": "ipython",
    "version": 3
   },
   "file_extension": ".py",
   "mimetype": "text/x-python",
   "name": "python",
   "nbconvert_exporter": "python",
   "pygments_lexer": "ipython3",
   "version": "3.8.13"
  }
 },
 "nbformat": 4,
 "nbformat_minor": 5
}
